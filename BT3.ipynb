{
 "cells": [
  {
   "cell_type": "markdown",
   "id": "165a62b5",
   "metadata": {},
   "source": [
    "NGUYỄN BẢO TRỌNG\n",
    "MSSV: 21880154"
   ]
  },
  {
   "cell_type": "markdown",
   "id": "2b2918c6",
   "metadata": {},
   "source": [
    "Câu 1. Một đồng xu có xác suất ra ngửa là 0.4. Tung đồng xu 4 lần. Nếu cả 4 lần đều ngửa \n",
    "ta sẽ được 10$, nếu có 3 lần ngửa ta sẽ được 5$, nếu không có lần nào ngửa ta sẽ mất 8$, các \n",
    "trường hợp còn lại ta sẽ mất 2$. Tính trung bình số tiền ta được/mất. Ta có nên chơi trò chơi này \n",
    "không?"
   ]
  },
  {
   "cell_type": "markdown",
   "id": "7702cf6c",
   "metadata": {},
   "source": [
    "Không gian mẫu N = 2^4 = 16\n",
    "\n",
    "X là số tiền nhận được. X = {-8, -2, 5, 10}\n",
    "\n",
    "P(X = -8) = P({SSSS}) = 1/16\n",
    "\n",
    "P(X = 5) = P({NNNS, NNSN, NSNN, SNNN}) = 4/16\n",
    "\n",
    "P(X = 10) = P({NNNN}) = 1/16\n",
    "\n",
    "P(X = -2) = 1 - 1/16 - 4/16 - 1/16 = 10/16\n",
    "\n",
    "E(X) = -8 * 1/16 + 5 * 4/16 + 10 * 1/16 + -2 * 10/16 = 1/8 = 0.125\n",
    "\n",
    "Bình quân mỗi lần chơi được 0.125, nếu chơi 100 lần thì có thể được 12.5$\n",
    "\n",
    "Vậy nên chơi trò này."
   ]
  },
  {
   "cell_type": "markdown",
   "id": "a8a9c327",
   "metadata": {},
   "source": [
    "Câu 2. Một hộp thuốc có 5 lọ, gồm 4 lọ tốt và 1 lọ hỏng.\n",
    "\n",
    "a) Lấy ngẫu nhiên (không hoàn lại) 3 lọ. Tính xác suất được 2 lọ tốt và 1 lọ hỏng.\n",
    "\n",
    "b) Kiểm tra từng lọ (không hoàn lại) cho đến khi phát hiện lọ hỏng thì dừng. Gọi X là số lần \n",
    "kiểm tra. Lập bảng phân phối xác suất của X. Tính kì vọng và độ lệch chuẩn của X."
   ]
  },
  {
   "cell_type": "markdown",
   "id": "fcaef690",
   "metadata": {},
   "source": [
    "a)\n",
    "\n",
    "5 lọ có 4 lọ tốt và 1 lọ hỏng => tỷ lệ lọ hỏng = 1/5 = 0.2\n",
    "\n",
    "X biến cố số lọ hỏng lấy được\n",
    "$$\n",
    "P(X = 1) = 3C1 * 0.2 ^ 1 * (1-0.2) ^ 2 = 0.384\n",
    "$$\n",
    "Vậy xác suất lấy được 1 lọ hỏng và lọ tốt là 38.4%"
   ]
  },
  {
   "cell_type": "markdown",
   "id": "5b902be0",
   "metadata": {},
   "source": [
    "b)\n",
    "\n",
    "X = 1, 2, 3, 4, 5\n",
    "\n",
    "A1, A2, A3, A4 là biến cố nhận được lọ hỏng ở lần kiểm tra thứ 1, 2, 3, 4\n",
    "\n",
    "$$\n",
    "P(X = 1) = P(A_1) = 1/5 = 0.2\n",
    "$$\n",
    "\n",
    "$$\n",
    "P(X = 2) = P(A_2A_1^c) = P(A_2|A_1^c)*P(A_1^c) = 1/4 * 4/5 = 1/5 = 0.2\n",
    "$$\n",
    "\n",
    "$$\n",
    "P(X = 3) = P(A_3A_2^cA_1^c) = P(A_3|A_2^cA_1^c)*P(A_2^c|A_1^c)*P(A_1^c) = 1/3 * 3/4 * 4/5 = 1/5 = 0.2\n",
    "$$\n",
    "\n",
    "$$\n",
    "P(X = 5) = P(A_4^cA_3^cA_2^cA_1^c) = P(A_4^c|A_3^cA_2^cA_1^c) * P(A_3^c|A_2^cA_1^c) * P(A_2^c|A_1^c) * P(A_1^c) = 1/2*2/3*3/4∗4/5 = 1/5 = 0.2\n",
    "$$\n",
    "\n",
    "$$\n",
    "P(X = 4) = 1 - 0.2 * 4 = 0.2\n",
    "$$"
   ]
  },
  {
   "cell_type": "markdown",
   "id": "15a4c90a",
   "metadata": {},
   "source": [
    "|X|1  |2  |3  |4  |5  |\n",
    "|-|---|---|---|---|---|\n",
    "|P|0.2|0.2|0.2|0.2|0.2|"
   ]
  },
  {
   "cell_type": "markdown",
   "id": "ac5e7f6a",
   "metadata": {},
   "source": [
    "$$\n",
    "E(X) = 1*0.2 + 2*0.2 + 3*0.2 + 4*0.2 + 5*0.2 = 3\n",
    "$$\n",
    "\n",
    "$$\n",
    "ơ^2 = (1-3)^2*0.2+(2-3)^2*0.2+(3-3)^2*0.2+(4-3)^2*0.2+(5-3)^2*0.2 = 2\n",
    "$$\n",
    "\n",
    "$$\n",
    "ơ = \\sqrt{ơ^2} = \\sqrt{2}\n",
    "$$"
   ]
  },
  {
   "cell_type": "markdown",
   "id": "0d4ee1ea",
   "metadata": {},
   "source": [
    "Câu 3. Tuổi thọ của một loài côn trùng nào đó là biến ngẫu nhiên X (đơn vị là tháng) với \n",
    "hàm mật độ xác suất (pdf):\n",
    "\n",
    "𝑓(𝑥) = {\n",
    "\n",
    "        𝑘𝑥(3.5 − 𝑥) 0 ≤ 𝑥 ≤ 3.5\n",
    "        \n",
    "        0            trường hợp khác\n",
    "        \n",
    "       }\n",
    "        \n",
    "a) Tìm k.\n",
    "\n",
    "b) Tính xác suất để côn trùng chết trước khi nó được một tháng tuổi.\n",
    "\n",
    "c) Tính tuổi thọ trung bình của côn trùng.\n",
    "\n",
    "d) Giả sử cứ cách mỗi tháng (kể từ lúc sinh ra) côn trùng này sẽ đẻ 1 lần. Tính số lần đẻ trung \n",
    "bình của côn trùng."
   ]
  },
  {
   "cell_type": "markdown",
   "id": "0ba7cc08",
   "metadata": {},
   "source": [
    "a)\n",
    "$$\n",
    "\\int^{3.5}_0kx(3.5-x)dx = k\\int^{3.5}_0x(3.5-x)dx = k*(3.5\\frac{x^2}{2}-\\frac{x^3}{3})|^{3.5}_0 = 1\n",
    "$$\n",
    "\n",
    "$$\n",
    "=> k = \\frac{48}{343} \\approx 0.14\n",
    "$$\n"
   ]
  },
  {
   "cell_type": "markdown",
   "id": "8e001e3a",
   "metadata": {},
   "source": [
    "b)\n",
    "$$\n",
    "P(X < 1) = \\int^{1}_00.14x(3.5-x)dx = 0.14\\int^{1}_0x(3.5-x)dx = 0.14*(3.5\\frac{x^2}{2}-\\frac{x^3}{3})|^{1}_0 \\approx 0.1983\n",
    "$$"
   ]
  },
  {
   "cell_type": "markdown",
   "id": "02c0e39f",
   "metadata": {},
   "source": [
    "c)\n",
    "$$\n",
    "u_X = \\int^{3.5}_0xf(x)dx =\\int^{3.5}_0x0.14x(3.5-x)dx \\approx 1.75\n",
    "$$"
   ]
  },
  {
   "cell_type": "markdown",
   "id": "93ee315b",
   "metadata": {},
   "source": [
    "d) \n",
    "Y là số lần đẻ. Y = 0,1,2,3\n",
    "$$\n",
    "P(Y = 0) = P(X < 1) = 0.1983\n",
    "$$\n",
    "\n",
    "$$\n",
    "P(Y = 1) = P(1 \\leq X < 2) = \\int^{2}_10.14x(3.5-x)dx = 0.4083\n",
    "$$\n",
    "\n",
    "\n",
    "$$\n",
    "P(Y = 2) = P(2 \\leq X < 3) = \\int^{3}_20.14x(3.5-x)dx = 0.3383\n",
    "$$\n",
    "\n",
    "$$\n",
    "P(Y = 3) = 1 - 0.1983 - 0.4083 - 0.3383 = 0.0551\n",
    "$$\n",
    "\n",
    "$$\n",
    "u_Y = 1 * 0.4083 + 2 * 0.3383 + 3 * 0.0551 = 1.2502\n",
    "$$"
   ]
  },
  {
   "cell_type": "markdown",
   "id": "41b80910",
   "metadata": {},
   "source": [
    "Câu 4. Một công ty vận tải thấy rằng quãng đường một chiếc xe tải đi được hàng năm tuân \n",
    "theo phân phối chuẩn với kỳ vọng 50 ngàn dặm, và độ lệch chuẩn 8 ngàn dặm.\n",
    "\n",
    "a) Xác định xác suất xe tải đi được quãng đường từ 40 ngàn dặm đến 65 ngàn dặm trong \n",
    "năm.\n",
    "\n",
    "b) Xác định xác suất xe tải đi được quãng đường trên 60 ngàn dặm trong năm.\n",
    "\n",
    "c) 80% xe tải đi được nhiều nhất x dặm trong năm. Xác định giá trị của x."
   ]
  },
  {
   "cell_type": "markdown",
   "id": "f39b517f",
   "metadata": {},
   "source": [
    "Gọi X là quãng đường xe tải đi được\n",
    "X là phân phối chuẩn\n",
    "$$\n",
    "X \\sim N(50, 8^2)\n",
    "$$\n",
    "Đặt\n",
    "$$\n",
    "Y = \\frac{X - 50}{8} \\sim N(0, 1)\n",
    "$$"
   ]
  },
  {
   "cell_type": "markdown",
   "id": "e871c181",
   "metadata": {},
   "source": [
    "a)\n",
    "$$\n",
    "P(40 \\leq X \\leq 65) = P(\\frac{40-50}{8} \\leq X \\leq \\frac{65-50}{8}) = \\theta{(1.875)} - \\theta{(-1.25)} = \\theta{(1.875)} - (1 - \\theta{(1.25)}) = 0.9696 - ( 1 - 0.8944) = 0.864 \\sim 86.4\\%\n",
    "$$"
   ]
  },
  {
   "cell_type": "markdown",
   "id": "5d329f29",
   "metadata": {},
   "source": [
    "b)\n",
    "$$\n",
    "P(X > 60) = P(Y > \\frac{60-50}{8}) = \\theta{(\\infty)} - \\theta{(1.25)} = 1 - 0.8944 = 0.1056 \\sim 10.56\\%\n",
    "$$"
   ]
  },
  {
   "cell_type": "markdown",
   "id": "57b317bf",
   "metadata": {},
   "source": [
    "c)\n",
    "$$\n",
    "P(X \\leq x) = P(Y \\leq \\frac{x - 50}{8}) = \\theta{(\\frac{x - 50}{8})} = 0.8\n",
    "$$\n",
    "\n",
    "$$\n",
    "\\Rightarrow \\frac{x - 50}{8} = 0.845 \\Rightarrow x = 56.76\n",
    "$$"
   ]
  }
 ],
 "metadata": {
  "kernelspec": {
   "display_name": "Python 3 (ipykernel)",
   "language": "python",
   "name": "python3"
  },
  "language_info": {
   "codemirror_mode": {
    "name": "ipython",
    "version": 3
   },
   "file_extension": ".py",
   "mimetype": "text/x-python",
   "name": "python",
   "nbconvert_exporter": "python",
   "pygments_lexer": "ipython3",
   "version": "3.9.12"
  }
 },
 "nbformat": 4,
 "nbformat_minor": 5
}
